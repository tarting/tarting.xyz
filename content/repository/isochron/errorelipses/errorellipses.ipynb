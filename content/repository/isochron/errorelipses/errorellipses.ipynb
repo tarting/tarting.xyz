{
 "cells": [
  {
   "cell_type": "markdown",
   "id": "53485d7a-beb4-42f8-b5e4-1f0ee24d3ab1",
   "metadata": {},
   "source": [
    "Get coordinates for error ellipses, based on coordinates\n",
    "x-error, y-error (1 sigma) and error correllation, and scaling \n",
    "factor (defaults to 95% confidence)."
   ]
  },
  {
   "cell_type": "code",
   "execution_count": null,
   "id": "a44752f7-7b2b-490f-aa02-d6eafcee19f5",
   "metadata": {},
   "outputs": [],
   "source": [
    "%matplotlib inline"
   ]
  },
  {
   "cell_type": "code",
   "execution_count": null,
   "id": "a1fc27eb-3591-4577-9548-9028f7814fcf",
   "metadata": {},
   "outputs": [],
   "source": [
    "import numpy as np\n",
    "import math\n",
    "import matplotlib.pyplot as plt\n",
    "import matplotlib as mpl"
   ]
  },
  {
   "cell_type": "markdown",
   "id": "dff357a7-e9b5-4b3b-a0a1-fdb91921dc9d",
   "metadata": {},
   "source": [
    "Calculate major and minor axes and inclination of ellipse.\n",
    "returns x_size, y_size, theta."
   ]
  },
  {
   "cell_type": "code",
   "execution_count": null,
   "id": "ff7e7efb-7fc8-44de-a5f7-a52478d10d83",
   "metadata": {},
   "outputs": [],
   "source": [
    "def calc_ellipse_params(x_err, y_err, rho, scale=2.4477):\n",
    "    xy_err = rho * x_err * y_err\n",
    "    covmat = np.matrix([[x_err**2,xy_err],\n",
    "                        [xy_err, y_err**2]])\n",
    "\n",
    "    eig = np.linalg.eigvals(covmat)\n",
    "\n",
    "    theta  = 1/2 * math.atan((2*xy_err)/(x_err**2-y_err**2))\n",
    "    x_size = eig[0]**0.5 * scale\n",
    "    y_size = eig[1]**0.5 * scale\n",
    "    if x_err >= y_err:\n",
    "        theta = -theta\n",
    "        \n",
    "    return (x_size, y_size, theta)"
   ]
  },
  {
   "cell_type": "code",
   "execution_count": null,
   "id": "b82d1ac0-c970-4dd6-9fc3-924ee622a3dc",
   "metadata": {},
   "outputs": [],
   "source": [
    "def ellipse_formula(x,y,a,b,theta):\n",
    "    x_t = lambda t: x + a*math.cos(t)*math.cos(theta) - b*math.sin(t)*math.sin(theta)\n",
    "    y_t = lambda t: y + b*math.sin(t)*math.cos(theta) - a*math.cos(t)*math.sin(theta)\n",
    "    return lambda t:[x_t(t), y_t(t)]"
   ]
  },
  {
   "cell_type": "code",
   "execution_count": null,
   "id": "6790a0b0-2b93-44a4-8be3-28e125b94fa9",
   "metadata": {},
   "outputs": [],
   "source": [
    "def ellipse(x,y,a,b,theta, num_pts=200):\n",
    "    form = ellipse_formula(x,y,a,b,theta)\n",
    "    return np.array([form(t) for t in np.linspace(0,2*math.pi, num=num_pts)][:-1])"
   ]
  },
  {
   "cell_type": "markdown",
   "id": "0b0044f2-d6a7-4900-b8c6-91e0d1b6dbcf",
   "metadata": {},
   "source": [
    "Ellipse formula generator, similar to error ellipse, but returns a function taking an angle\n",
    "(positive rotation direction) in degrees and returns the edge coordinate in that direction."
   ]
  },
  {
   "cell_type": "code",
   "execution_count": null,
   "id": "1779653e-61de-4ed8-9f0f-46fa7882b05d",
   "metadata": {},
   "outputs": [],
   "source": [
    "def error_ellipse_formula(x, y, x_err, y_err, rho, scale=2.4477):\n",
    "    x_size, y_size, theta = calc_ellipse_params(x_err, y_err, rho, scale)\n",
    "\n",
    "    return ellipse_formula(x,y,x_size,y_size,theta)"
   ]
  },
  {
   "cell_type": "markdown",
   "id": "09261116-1067-481b-b57d-6e21d68073d3",
   "metadata": {},
   "source": [
    "Takes data coordinates, 1 sigma errors, error correllation factor, scale\n",
    "(95% conf default (2.4477), and number of edge points).\n",
    "returns a coordinate matrix for for the error ellipse edges for each datapoint,\n",
    "in data coordinates. \n",
    "This can be used for creating matplotlib patches."
   ]
  },
  {
   "cell_type": "code",
   "execution_count": null,
   "id": "a0a5a7e9-31b7-464b-b5c3-2e7e0f2f831e",
   "metadata": {},
   "outputs": [],
   "source": [
    "def error_ellipse(x, y, x_err, y_err, rho, scale=2.4477, num_points = 200):\n",
    "    x_size, y_size, theta = calc_ellipse_params(x_err, y_err, rho, scale)\n",
    "    \n",
    "    return ellipse(x,y,x_size,y_size,theta,num_points)"
   ]
  },
  {
   "cell_type": "markdown",
   "id": "d199b60f-5e8c-4249-9a93-bc40005f5da8",
   "metadata": {},
   "source": [
    "Example of plotting a data set:"
   ]
  },
  {
   "cell_type": "code",
   "execution_count": null,
   "id": "d1b77d72-d572-4358-8926-0190eb5ffa48",
   "metadata": {},
   "outputs": [],
   "source": [
    "fig, ax = plt.subplots(dpi=150)\n",
    "rng = np.random.RandomState(1129412)\n",
    "for i in range(1,10):\n",
    "    x, y = i/10 + (rng.rand()-0.5)/10, i/10+(rng.rand()-0.5)/10\n",
    "    x_err, y_err = 0.01+rng.rand()/50, 0.01+rng.rand()/50\n",
    "    rho = 0.7*rng.rand() + 0.2\n",
    "    e_coords = error_ellipse(x, y, x_err, y_err, rho)\n",
    "    e = mpl.patches.Polygon(e_coords, fc='none', ec='k', lw=0.5, joinstyle='round')\n",
    "    ax.add_patch(e)\n",
    "ax.set_aspect('equal')\n",
    "plt.savefig('output_12_0.png');"
   ]
  },
  {
   "cell_type": "markdown",
   "id": "cc94c19f-cfc1-4e27-9ed4-f81d5f33a4de",
   "metadata": {},
   "source": [
    "In order to evaluate a regression fit, we calculate the 'best fit' distance, defined as the shortest distance from an analysis point, in relation to the error ellipse size. This corresponds to the distance between the ellipse center and the first point on the line the ellipse touches under scaling."
   ]
  },
  {
   "cell_type": "code",
   "execution_count": null,
   "id": "0425abb6-5887-435b-bd61-eb74089d1626",
   "metadata": {},
   "outputs": [],
   "source": [
    "fig, ax = plt.subplots(dpi=150)\n",
    "pts = [\n",
    "    #x,   y,   x_err, y_err,  rho, scale\n",
    "    [0.5, 0.3,  0.04,  0.06, 0.5, 0.5],\n",
    "    [0.5, 0.3,  0.04,  0.06, 0.5, 1.8],\n",
    "    [0.5, 0.3,  0.04,  0.06, 0.5, 3.6],\n",
    "    [0.5, 0.3,  0.04,  0.06, 0.5, 6],\n",
    "    \n",
    "]\n",
    "for pt in pts:\n",
    "    e_coords = error_ellipse(*pt)\n",
    "    e = mpl.patches.Polygon(e_coords, joinstyle='round', ls=':', fc='none', ec='C3', lw=1)\n",
    "    ax.add_patch(e)\n",
    "\n",
    "ax.plot([0.1,0.9], [0.2, 0.7]);\n",
    "ax.annotate('', xy=(0.5,0.3), xytext=(0.59,0.51), xycoords='data', arrowprops={'arrowstyle': '|-|'})\n",
    "ax.annotate('Best fit\\ndistance', xy=(0.56,0.3), xycoords='data', fontsize=12)\n",
    "ax.annotate('Regression line', xy=(0.17,0.3), c='k', xycoords='data', rotation =31, fontsize=12);\n",
    "ax.set_aspect('equal')\n",
    "plt.savefig('output_14_0.png');"
   ]
  },
  {
   "cell_type": "code",
   "execution_count": null,
   "id": "62fd0512-1e95-431d-8961-19fff42e839b",
   "metadata": {},
   "outputs": [],
   "source": [
    "def get_bestfitdist(x, y, x_err, y_err, rho, fit):\n",
    "    \n",
    "    shift_vec = np.matrix([[0,fit.y0]])\n",
    "    l0 = np.matrix([[1,fit.alpha]])\n",
    "    \n",
    "    coords = np.array([[x,y]]) - shift_vec\n",
    "\n",
    "    a, b, theta = calc_ellipse_params(\n",
    "        x_err, y_err, rho)\n",
    "    \n",
    "    ellipse_form = ellipse_formula(\n",
    "        x,y,a,b,theta)\n",
    "    \n",
    "    scale_mx_1 = np.matrix([[1,0],[0,b/a]])\n",
    "    scale_mx_2 = np.matrix([[1,0],[0,a/b]])\n",
    "\n",
    "    rot_mx = lambda t: np.matrix([[np.cos(t), - np.sin(t)],\n",
    "                                  [np.sin(t), np.cos(t)]])\n",
    "    \n",
    "    c_pp = (coords@ rot_mx(theta) @scale_mx_1).T\n",
    "    l0_pp =  (l0@ rot_mx(theta) @scale_mx_1).T\n",
    "    l0_alpha = l0_pp[1,0]/l0_pp[0,0]\n",
    "    n_pp = np.matrix([[-l0_pp[1,0],l0_pp[0,0]]]).T\n",
    "    n_alpha = n_pp[1,0]/n_pp[0,0]\n",
    "    n_0 = c_pp[1,0] - c_pp[0,0]*n_alpha\n",
    "    \n",
    "    x_intercept = n_0 / (l0_alpha-n_alpha)\n",
    "    c_adj_pp = np.matrix([[x_intercept,l0_alpha*x_intercept]])\n",
    "    \n",
    "    n = ((n_pp.T * scale_mx_2) * rot_mx(-theta)) + shift_vec\n",
    "    n = n/np.linalg.norm(n)\n",
    "    c = ((c_pp.T * scale_mx_2) * rot_mx(-theta)) + shift_vec\n",
    "    c_adj = ((c_adj_pp * scale_mx_2) * rot_mx(-theta)) + shift_vec\n",
    "    theta_n = np.arccos(n[0,0])\n",
    "    ell_coords = ellipse_form(theta_n)\n",
    "    dir_95_conf = np.linalg.norm(np.array(c)[0]- np.array(ell_coords)) \n",
    "    misfit = np.linalg.norm(c-c_adj) * (1 if c[0,0] >= c_adj[0,0] else -1) \n",
    "    return (c_adj, misfit, n, theta_n, dir_95_conf)"
   ]
  }
 ],
 "metadata": {
  "kernelspec": {
   "display_name": "BaselineDK@3.9.7",
   "language": "python",
   "name": "baselinedk3.9.7"
  },
  "language_info": {
   "codemirror_mode": {
    "name": "ipython",
    "version": 3
   },
   "file_extension": ".py",
   "mimetype": "text/x-python",
   "name": "python",
   "nbconvert_exporter": "python",
   "pygments_lexer": "ipython3",
   "version": "3.9.7"
  }
 },
 "nbformat": 4,
 "nbformat_minor": 5
}
