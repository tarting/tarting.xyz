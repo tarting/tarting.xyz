{
 "cells": [
  {
   "cell_type": "markdown",
   "id": "1ca76508-0d45-422d-8333-8bc8ab70c40c",
   "metadata": {},
   "source": [
    "Implementation of the standard isochron method emplyoed by ISOPLOT (e.g. Ludwig, 2003) as defined in York 1966, 1969 York et al. 2014. The method uses two measured variables with correlated errors.\n",
    "\n",
    "<!--more-->"
   ]
  },
  {
   "cell_type": "code",
   "execution_count": null,
   "id": "20da1172-3dcc-406d-8ec5-2028e9c8d8e5",
   "metadata": {},
   "outputs": [],
   "source": [
    "from pprint import pprint\n",
    "from collections import namedtuple\n",
    "\n",
    "import numpy as np\n",
    "from scipy import stats\n",
    "import matplotlib.pyplot as plt\n",
    "import matplotlib as mpl\n",
    "\n",
    "from errorellipse import error_ellipse"
   ]
  },
  {
   "cell_type": "code",
   "execution_count": null,
   "id": "5eab0d19-5330-475f-92de-e0f131b5e0a8",
   "metadata": {},
   "outputs": [],
   "source": [
    "Yorkfit = namedtuple('Yorkfit', ['y0', 'alpha', \n",
    "                                 'y0_err', 'alpha_err',\n",
    "                                 'MSWD', 'deg_f', \n",
    "                                 'x_adj', 'y_adj'])"
   ]
  },
  {
   "cell_type": "code",
   "execution_count": null,
   "id": "57a2f6c9-154f-4d6a-9dba-795f71ee800c",
   "metadata": {},
   "outputs": [],
   "source": [
    "def york(X, Y, X_err, Y_err, rho=None, max_iter=1000, epsilon=1e-18):\n",
    "    if rho is None:\n",
    "        rho = 0*X\n",
    "    elif type(rho) is float:\n",
    "        rho = np.ones(X.shape)*rho\n",
    "\n",
    "    # Step 1 estimate b\n",
    "    b = stats.linregress(X, Y).intercept\n",
    "\n",
    "    # Step 2 calculate weights\n",
    "    w_X =  1/X_err**2\n",
    "    w_Y =  1/Y_err**2\n",
    "\n",
    "    # Iterate over step 3-6\n",
    "    for i in range(max_iter):\n",
    "        # Step 3 evaluate W\n",
    "        alpha = (w_X*w_Y)**0.5\n",
    "        W = (w_X*w_Y) / (w_X + w_Y*b**2 - 2*b*rho*alpha)\n",
    "\n",
    "        # Step 4 Calculate X_bar, Y_bar -> U_i V_i beta_i\n",
    "        X_bar = sum(W*X)/sum(W)\n",
    "        Y_bar = sum(W*Y)/sum(W)\n",
    "        U = X - X_bar\n",
    "        V = Y - Y_bar\n",
    "        beta = W * (U/w_Y + b*V/w_X -(b*U+V)*rho/alpha)\n",
    "\n",
    "        # Step 5\n",
    "        b_prev = b\n",
    "        b = sum(W*beta*V)/sum(W*beta*U)\n",
    "\n",
    "        # Step 6 Iterate if new estimate is worse than desired level\n",
    "        if abs(b-b_prev) < epsilon:\n",
    "#             print('iterations', i)\n",
    "            break\n",
    "\n",
    "    # Step 7 calculate a\n",
    "    a = Y_bar - b*X_bar\n",
    "\n",
    "    # Step 8 calculate adjusted values x and y\n",
    "    x = X_bar + beta\n",
    "    y = Y_bar + b*beta\n",
    "\n",
    "    # Step 9 calculate x_bar and u\n",
    "    x_bar = sum(W*x)/ sum(W)\n",
    "    y_bar = sum(W*y)/ sum(W)\n",
    "    u = x - x_bar\n",
    "    v = y - y_bar\n",
    "    \n",
    "\n",
    "    # Step 10 calculate sigma a and sigma b\n",
    "    sigma_b = 1/(sum(W*u**2))\n",
    "#     print(W, u, u**2, sep='\\n')\n",
    "    sigma_a = 1/sum(W) + x_bar**2 * sigma_b\n",
    "\n",
    "\n",
    "    # Step 11 calculate goodness of fit\n",
    "    # S = sum(w_Xu**2)\n",
    "    S = sum(W *(Y-b*X-a)**2)\n",
    "    # S = sum(u**2 / )\n",
    "    deg_f = len(X) - 1\n",
    "    MSWD = S/deg_f\n",
    "    return Yorkfit(a, b, sigma_a**0.5, sigma_b**0.5, MSWD, deg_f, x, y)"
   ]
  },
  {
   "cell_type": "markdown",
   "id": "61174120-87e7-4dfa-b97e-8aa7e68c63fe",
   "metadata": {
    "tags": []
   },
   "source": [
    "## Decay model parameters\n",
    "\n",
    "Decay constants in y<sup>-1</sup> from Steiger and Jäger (1977)"
   ]
  },
  {
   "cell_type": "code",
   "execution_count": null,
   "id": "97be9c46-f0b8-4e03-befa-2c95086897a5",
   "metadata": {},
   "outputs": [],
   "source": [
    "lambda_232_Th = 0.049475e-9\n",
    "lambda_238_1 =  0.155125e-9\n",
    "lambda_235_2 =  0.98485e-9"
   ]
  },
  {
   "cell_type": "markdown",
   "id": "4494b079-e0c2-4c2d-941d-a10e53999a9b",
   "metadata": {},
   "source": [
    "Initial composition for common lead (Tatsumoto 1973)"
   ]
  },
  {
   "cell_type": "code",
   "execution_count": null,
   "id": "8d8cce45-fc01-416e-a13a-c9212b0506d5",
   "metadata": {},
   "outputs": [],
   "source": [
    "Pb206Pb204_CD = 9.307\n",
    "Pb207Pb204_CD = 10.294\n",
    "Pb208Pb204_CD = 29.476"
   ]
  },
  {
   "cell_type": "markdown",
   "id": "abcefeae-0cec-4df8-b56c-a4ed5d28b4c0",
   "metadata": {},
   "source": [
    "## Decay models for lead evolution"
   ]
  },
  {
   "cell_type": "code",
   "execution_count": null,
   "id": "00f07cba-d0ad-4aa8-9538-7a7c2f6664d8",
   "metadata": {},
   "outputs": [],
   "source": [
    "Pb207206star = lambda t: 1/137.88 * (np.exp(lambda_235_2*t)-1)/(np.exp(lambda_238_1*t)-1)"
   ]
  },
  {
   "cell_type": "markdown",
   "id": "88615d6d-a0cb-4093-9fd0-4e6a79ed6df1",
   "metadata": {},
   "source": [
    "Stacey and Kramers (1975) two stage lead evolution "
   ]
  },
  {
   "cell_type": "code",
   "execution_count": null,
   "id": "30564856-00a9-4c2c-8996-e3f2b1d522a1",
   "metadata": {},
   "outputs": [],
   "source": [
    "Pb206Pb204_SK_2 = lambda t: 11.152 + 9.735 *(np.exp(lambda_238_1*3.7e9)-np.exp(lambda_238_1*t))\n",
    "Pb207Pb204_SK_2 = lambda t: 12.998 + 9.735/137.88 * (np.exp(lambda_235_2*3.7e9)-np.exp(lambda_235_2*t))\n",
    "\n",
    "Pb206Pb204_SK_mu = lambda mu:(lambda t: 11.152 + mu *(np.exp(lambda_238_1*3.7e9)-np.exp(lambda_238_1*t)))\n",
    "Pb207Pb204_SK_mu = lambda mu:(lambda t: 12.998 + mu/137.88 * (np.exp(lambda_235_2*3.7e9)-np.exp(lambda_235_2*t)))\n",
    "\n",
    "\n",
    "Pb206Pb204_1s = lambda mu:(lambda t: Pb206Pb204_CD + mu *(np.exp(lambda_238_1*4.57e9)-np.exp(lambda_238_1*t)))\n",
    "Pb207Pb204_1s = lambda mu:(lambda t: Pb207Pb204_CD + mu/137.88 * (np.exp(lambda_235_2*4.57e9)-np.exp(lambda_235_2*t)))\n"
   ]
  },
  {
   "cell_type": "markdown",
   "id": "8a327271-b538-4f57-940f-11144e0914ec",
   "metadata": {},
   "source": [
    "## Example"
   ]
  },
  {
   "cell_type": "code",
   "execution_count": null,
   "id": "11ab9c91-1bac-48dc-ae4d-12c849994dde",
   "metadata": {},
   "outputs": [],
   "source": [
    "fig, ax = plt.subplots(dpi=150)\n",
    "ax.set_aspect('equal')\n",
    "\n",
    "rng = np.random.RandomState(938262)\n",
    "X = np.array([i/10 + (rng.rand()-0.5)/10 for i in range(10)])\n",
    "Y = np.array([i/10+(rng.rand()-0.5)/10 for i in range(10)])\n",
    "X_err = np.array([0.01+rng.rand()/50 for _ in range(10)])\n",
    "Y_err = np.array([0.01+rng.rand()/50 for _ in range(10)])\n",
    "Rho = np.array([0.7*rng.rand() + 0.2 for _ in range(10)])\n",
    "\n",
    "for PT in zip(X, Y, X_err, Y_err, Rho):\n",
    "    e_coords = error_ellipse(*PT)\n",
    "    e = mpl.patches.Polygon(e_coords, fc='none', ec='k', lw=0.5, joinstyle='round')\n",
    "    ax.add_patch(e)\n",
    "\n",
    "fit = york( X, Y, X_err, Y_err, Rho)\n",
    "print(\"Intercept: {} ± {}\".format(fit.y0, fit.y0_err),\n",
    "      \"Slope: {} ± {}\".format(fit.alpha, fit.alpha_err),\n",
    "      \"MSWD: {}\".format(fit.MSWD),\n",
    "      sep='\\n',\n",
    ")\n",
    "ax.plot([0,1],[0,fit.alpha]);\n",
    "plt.savefig('output_13_1.png');"
   ]
  },
  {
   "cell_type": "markdown",
   "id": "ffdbc13a-c4b0-4ec5-8c46-44a56c31bf94",
   "metadata": {},
   "source": [
    "## References\n",
    "<hb>\n",
    "    \n",
    "Ludwig, K. R. (2003). User's manual for IsoPlot 3.0. A geochronological toolkit for Microsoft Excel, 71.\n",
    "\n",
    "Stacey, J.S., Kramers, J.D. (1975) Approximation of terrestrial lead isotope evolution by a two-stage model. Earth and Planetary Science Letters 26, 207-221.\n",
    "    \n",
    "Steiger, R.H. and Jäger, E. (1977) Subcommission on Geochronology: Convention on the use of decay constants in geo- and cosmochronology. Earth and Planetary Science Letters 36, 359-362.\n",
    "\n",
    "Tatsumoto, M., Knight R.J., Allègre, C.J. (1973) Time differences in the formation of meteorites as determined from the ratio of lead-207 to lead-206. Science 180, 1279-1283. \n",
    "    \n",
    "York, D. (1966) Least squares fitting of a straight line. Canadian Journal of Physics, 44, 1079–1086.\n",
    "\n",
    "York, D. (1969) Least squares fitting of a straight line with correlated errors. Earth and Planetary Science Letters 5, 320–324.\n",
    "\n",
    "York, D., Evensen, N.M., Martinez, M.L., and Delgado, J.D. (2004) Unified equations for the slope, intercept, and standard errors of the best straight line. American Journal of Physics 72, 367–375."
   ]
  }
 ],
 "metadata": {
  "kernelspec": {
   "display_name": "BaselineDK@3.9.7",
   "language": "python",
   "name": "baselinedk3.9.7"
  },
  "language_info": {
   "codemirror_mode": {
    "name": "ipython",
    "version": 3
   },
   "file_extension": ".py",
   "mimetype": "text/x-python",
   "name": "python",
   "nbconvert_exporter": "python",
   "pygments_lexer": "ipython3",
   "version": "3.9.7"
  }
 },
 "nbformat": 4,
 "nbformat_minor": 5
}
